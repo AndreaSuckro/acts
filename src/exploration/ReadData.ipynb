{
 "cells": [
  {
   "cell_type": "markdown",
   "metadata": {},
   "source": [
    "### First Exploration of the Data\n",
    "This notebook contains first scripts for handling the .dcm files."
   ]
  },
  {
   "cell_type": "code",
   "execution_count": null,
   "metadata": {
    "collapsed": true
   },
   "outputs": [],
   "source": [
    "%matplotlib inline\n",
    "import dicom\n",
    "import os\n",
    "import numpy\n",
    "from matplotlib import pyplot as plt, cm"
   ]
  },
  {
   "cell_type": "code",
   "execution_count": null,
   "metadata": {
    "collapsed": true
   },
   "outputs": [],
   "source": [
    "path_dicom = \"../../data/LIDC-IDRI-0666/1.3.6.1.4.1.14519.5.2.1.6279.6001.150264634200093580367988090366/1.3.6.1.4.1.14519.5.2.1.6279.6001.325580698241281352835338693869/\"\n",
    "all_scans = []  # create an empty list\n",
    "for dirName, subdirList, fileList in os.walk(path_dicom):\n",
    "    for filename in fileList:\n",
    "        if \".dcm\" in filename.lower():  # check whether the file's DICOM\n",
    "            all_scans.append(os.path.join(dirName,filename))"
   ]
  },
  {
   "cell_type": "code",
   "execution_count": null,
   "metadata": {},
   "outputs": [],
   "source": [
    "# Get ref file\n",
    "ref_scan = dicom.read_file(all_scans[0]) # number is not important here, could take anyone\n",
    "print(dir(ref_scan))\n",
    "\n",
    "# Load dimensions based on the number of rows, columns, and slices (along the Z axis)\n",
    "pixel_dims = (int(ref_scan.Rows), int(ref_scan.Columns), len(all_scans))\n",
    "\n",
    "# Load spacing values (in mm)\n",
    "pixel_spacing = (float(ref_scan.PixelSpacing[0]), float(ref_scan.PixelSpacing[1]), float(ref_scan.SliceThickness))\n",
    "\n",
    "x = numpy.arange(0.0, (pixel_dims[0]+1)*pixel_spacing[0], pixel_spacing[0])\n",
    "y = numpy.arange(0.0, (pixel_dims[1]+1)*pixel_spacing[1], pixel_spacing[1])\n",
    "z = numpy.arange(0.0, (pixel_dims[2]+1)*pixel_spacing[2], pixel_spacing[2])\n",
    "\n",
    "# The array is sized based on 'pixel_dims'\n",
    "array_imgs = numpy.zeros(pixel_dims, dtype=ref_scan.pixel_array.dtype)\n",
    "\n",
    "# loop through all the DICOM files\n",
    "for filenameDCM in all_scans:\n",
    "    # read the file\n",
    "    ds = dicom.read_file(filenameDCM)\n",
    "    # store the raw image data\n",
    "    array_imgs[:, :, all_scans.index(filenameDCM)] = ds.pixel_array"
   ]
  },
  {
   "cell_type": "code",
   "execution_count": null,
   "metadata": {
    "scrolled": true
   },
   "outputs": [],
   "source": [
    "plt.figure(dpi=300)\n",
    "plt.axes().set_aspect('auto', 'box')\n",
    "plt.set_cmap(plt.inferno())\n",
    "plt.imshow(array_imgs[:, :, 110])"
   ]
  }
 ],
 "metadata": {
  "kernelspec": {
   "display_name": "Python 3",
   "language": "python",
   "name": "python3"
  },
  "language_info": {
   "codemirror_mode": {
    "name": "ipython",
    "version": 3
   },
   "file_extension": ".py",
   "mimetype": "text/x-python",
   "name": "python",
   "nbconvert_exporter": "python",
   "pygments_lexer": "ipython3",
   "version": "3.6.1"
  }
 },
 "nbformat": 4,
 "nbformat_minor": 1
}
